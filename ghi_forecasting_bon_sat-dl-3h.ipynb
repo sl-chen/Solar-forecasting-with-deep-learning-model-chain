{
 "cells": [
  {
   "cell_type": "code",
   "execution_count": 2,
   "metadata": {
    "id": "S5xisA_Sdqg9"
   },
   "outputs": [],
   "source": [
    "import pandas as pd\n",
    "import numpy as np\n",
    "import matplotlib.pyplot as plt\n",
    "import datetime"
   ]
  },
  {
   "cell_type": "code",
   "execution_count": 3,
   "metadata": {
    "colab": {
     "base_uri": "https://localhost:8080/",
     "height": 264
    },
    "id": "-3_eZZ4pfPxI",
    "outputId": "2334268d-6586-4011-8286-c76620e6b19c"
   },
   "outputs": [
    {
     "data": {
      "text/html": [
       "<div>\n",
       "<style scoped>\n",
       "    .dataframe tbody tr th:only-of-type {\n",
       "        vertical-align: middle;\n",
       "    }\n",
       "\n",
       "    .dataframe tbody tr th {\n",
       "        vertical-align: top;\n",
       "    }\n",
       "\n",
       "    .dataframe thead th {\n",
       "        text-align: right;\n",
       "    }\n",
       "</style>\n",
       "<table border=\"1\" class=\"dataframe\">\n",
       "  <thead>\n",
       "    <tr style=\"text-align: right;\">\n",
       "      <th></th>\n",
       "      <th>0</th>\n",
       "      <th>1</th>\n",
       "      <th>2</th>\n",
       "      <th>3</th>\n",
       "      <th>4</th>\n",
       "      <th>5</th>\n",
       "      <th>6</th>\n",
       "      <th>7</th>\n",
       "      <th>8</th>\n",
       "      <th>9</th>\n",
       "      <th>...</th>\n",
       "      <th>111</th>\n",
       "      <th>112</th>\n",
       "      <th>113</th>\n",
       "      <th>114</th>\n",
       "      <th>115</th>\n",
       "      <th>116</th>\n",
       "      <th>117</th>\n",
       "      <th>118</th>\n",
       "      <th>119</th>\n",
       "      <th>120</th>\n",
       "    </tr>\n",
       "    <tr>\n",
       "      <th>time</th>\n",
       "      <th></th>\n",
       "      <th></th>\n",
       "      <th></th>\n",
       "      <th></th>\n",
       "      <th></th>\n",
       "      <th></th>\n",
       "      <th></th>\n",
       "      <th></th>\n",
       "      <th></th>\n",
       "      <th></th>\n",
       "      <th></th>\n",
       "      <th></th>\n",
       "      <th></th>\n",
       "      <th></th>\n",
       "      <th></th>\n",
       "      <th></th>\n",
       "      <th></th>\n",
       "      <th></th>\n",
       "      <th></th>\n",
       "      <th></th>\n",
       "      <th></th>\n",
       "    </tr>\n",
       "  </thead>\n",
       "  <tbody>\n",
       "    <tr>\n",
       "      <th>2020-01-01 13:40:00</th>\n",
       "      <td>0.792169</td>\n",
       "      <td>0.792733</td>\n",
       "      <td>0.792968</td>\n",
       "      <td>0.792157</td>\n",
       "      <td>0.791599</td>\n",
       "      <td>0.791142</td>\n",
       "      <td>0.789827</td>\n",
       "      <td>0.789438</td>\n",
       "      <td>0.789015</td>\n",
       "      <td>0.788927</td>\n",
       "      <td>...</td>\n",
       "      <td>0.792410</td>\n",
       "      <td>0.792439</td>\n",
       "      <td>0.792704</td>\n",
       "      <td>0.793215</td>\n",
       "      <td>0.793409</td>\n",
       "      <td>0.793789</td>\n",
       "      <td>0.793050</td>\n",
       "      <td>0.793040</td>\n",
       "      <td>0.792338</td>\n",
       "      <td>0.792184</td>\n",
       "    </tr>\n",
       "    <tr>\n",
       "      <th>2020-01-01 13:45:00</th>\n",
       "      <td>0.792102</td>\n",
       "      <td>0.792444</td>\n",
       "      <td>0.792740</td>\n",
       "      <td>0.792217</td>\n",
       "      <td>0.791788</td>\n",
       "      <td>0.790531</td>\n",
       "      <td>0.789976</td>\n",
       "      <td>0.789481</td>\n",
       "      <td>0.789733</td>\n",
       "      <td>0.790200</td>\n",
       "      <td>...</td>\n",
       "      <td>0.792126</td>\n",
       "      <td>0.791741</td>\n",
       "      <td>0.791753</td>\n",
       "      <td>0.791973</td>\n",
       "      <td>0.792708</td>\n",
       "      <td>0.793137</td>\n",
       "      <td>0.793288</td>\n",
       "      <td>0.793451</td>\n",
       "      <td>0.793107</td>\n",
       "      <td>0.793048</td>\n",
       "    </tr>\n",
       "    <tr>\n",
       "      <th>2020-01-01 13:50:00</th>\n",
       "      <td>0.793457</td>\n",
       "      <td>0.794285</td>\n",
       "      <td>0.793274</td>\n",
       "      <td>0.792211</td>\n",
       "      <td>0.791347</td>\n",
       "      <td>0.790630</td>\n",
       "      <td>0.790719</td>\n",
       "      <td>0.790296</td>\n",
       "      <td>0.790957</td>\n",
       "      <td>0.791019</td>\n",
       "      <td>...</td>\n",
       "      <td>0.792357</td>\n",
       "      <td>0.792143</td>\n",
       "      <td>0.792446</td>\n",
       "      <td>0.792770</td>\n",
       "      <td>0.794127</td>\n",
       "      <td>0.793923</td>\n",
       "      <td>0.794680</td>\n",
       "      <td>0.794090</td>\n",
       "      <td>0.793897</td>\n",
       "      <td>0.794338</td>\n",
       "    </tr>\n",
       "    <tr>\n",
       "      <th>2020-01-01 13:55:00</th>\n",
       "      <td>0.795044</td>\n",
       "      <td>0.795560</td>\n",
       "      <td>0.795075</td>\n",
       "      <td>0.794183</td>\n",
       "      <td>0.793174</td>\n",
       "      <td>0.792442</td>\n",
       "      <td>0.792130</td>\n",
       "      <td>0.791738</td>\n",
       "      <td>0.792113</td>\n",
       "      <td>0.792873</td>\n",
       "      <td>...</td>\n",
       "      <td>0.794089</td>\n",
       "      <td>0.794074</td>\n",
       "      <td>0.794943</td>\n",
       "      <td>0.795199</td>\n",
       "      <td>0.796139</td>\n",
       "      <td>0.796155</td>\n",
       "      <td>0.796623</td>\n",
       "      <td>0.796170</td>\n",
       "      <td>0.796341</td>\n",
       "      <td>0.796915</td>\n",
       "    </tr>\n",
       "    <tr>\n",
       "      <th>2020-01-01 14:00:00</th>\n",
       "      <td>0.797914</td>\n",
       "      <td>0.797860</td>\n",
       "      <td>0.798208</td>\n",
       "      <td>0.797192</td>\n",
       "      <td>0.796637</td>\n",
       "      <td>0.796254</td>\n",
       "      <td>0.795041</td>\n",
       "      <td>0.795250</td>\n",
       "      <td>0.795430</td>\n",
       "      <td>0.795695</td>\n",
       "      <td>...</td>\n",
       "      <td>0.796282</td>\n",
       "      <td>0.796791</td>\n",
       "      <td>0.797493</td>\n",
       "      <td>0.798360</td>\n",
       "      <td>0.799728</td>\n",
       "      <td>0.800105</td>\n",
       "      <td>0.800167</td>\n",
       "      <td>0.799595</td>\n",
       "      <td>0.799547</td>\n",
       "      <td>0.799892</td>\n",
       "    </tr>\n",
       "  </tbody>\n",
       "</table>\n",
       "<p>5 rows × 121 columns</p>\n",
       "</div>"
      ],
      "text/plain": [
       "                            0         1         2         3         4  \\\n",
       "time                                                                    \n",
       "2020-01-01 13:40:00  0.792169  0.792733  0.792968  0.792157  0.791599   \n",
       "2020-01-01 13:45:00  0.792102  0.792444  0.792740  0.792217  0.791788   \n",
       "2020-01-01 13:50:00  0.793457  0.794285  0.793274  0.792211  0.791347   \n",
       "2020-01-01 13:55:00  0.795044  0.795560  0.795075  0.794183  0.793174   \n",
       "2020-01-01 14:00:00  0.797914  0.797860  0.798208  0.797192  0.796637   \n",
       "\n",
       "                            5         6         7         8         9  ...  \\\n",
       "time                                                                   ...   \n",
       "2020-01-01 13:40:00  0.791142  0.789827  0.789438  0.789015  0.788927  ...   \n",
       "2020-01-01 13:45:00  0.790531  0.789976  0.789481  0.789733  0.790200  ...   \n",
       "2020-01-01 13:50:00  0.790630  0.790719  0.790296  0.790957  0.791019  ...   \n",
       "2020-01-01 13:55:00  0.792442  0.792130  0.791738  0.792113  0.792873  ...   \n",
       "2020-01-01 14:00:00  0.796254  0.795041  0.795250  0.795430  0.795695  ...   \n",
       "\n",
       "                          111       112       113       114       115  \\\n",
       "time                                                                    \n",
       "2020-01-01 13:40:00  0.792410  0.792439  0.792704  0.793215  0.793409   \n",
       "2020-01-01 13:45:00  0.792126  0.791741  0.791753  0.791973  0.792708   \n",
       "2020-01-01 13:50:00  0.792357  0.792143  0.792446  0.792770  0.794127   \n",
       "2020-01-01 13:55:00  0.794089  0.794074  0.794943  0.795199  0.796139   \n",
       "2020-01-01 14:00:00  0.796282  0.796791  0.797493  0.798360  0.799728   \n",
       "\n",
       "                          116       117       118       119       120  \n",
       "time                                                                   \n",
       "2020-01-01 13:40:00  0.793789  0.793050  0.793040  0.792338  0.792184  \n",
       "2020-01-01 13:45:00  0.793137  0.793288  0.793451  0.793107  0.793048  \n",
       "2020-01-01 13:50:00  0.793923  0.794680  0.794090  0.793897  0.794338  \n",
       "2020-01-01 13:55:00  0.796155  0.796623  0.796170  0.796341  0.796915  \n",
       "2020-01-01 14:00:00  0.800105  0.800167  0.799595  0.799547  0.799892  \n",
       "\n",
       "[5 rows x 121 columns]"
      ]
     },
     "execution_count": 3,
     "metadata": {},
     "output_type": "execute_result"
    }
   ],
   "source": [
    "df = pd.read_csv('bon_tf_ghi_2020_n.csv')\n",
    "df['time'] = pd.to_datetime(df['time'])\n",
    "df = df.set_index('time')\n",
    "df = df.sort_index()\n",
    "\n",
    "df = df[df > 0]\n",
    "df = df.dropna()\n",
    "\n",
    "df.head()"
   ]
  },
  {
   "cell_type": "code",
   "execution_count": 5,
   "metadata": {
    "colab": {
     "base_uri": "https://localhost:8080/",
     "height": 337
    },
    "id": "jnxpQMP9fo5k",
    "outputId": "93db5078-3243-4fe7-c10e-765f9a428620"
   },
   "outputs": [
    {
     "data": {
      "text/html": [
       "<div>\n",
       "<style scoped>\n",
       "    .dataframe tbody tr th:only-of-type {\n",
       "        vertical-align: middle;\n",
       "    }\n",
       "\n",
       "    .dataframe tbody tr th {\n",
       "        vertical-align: top;\n",
       "    }\n",
       "\n",
       "    .dataframe thead th {\n",
       "        text-align: right;\n",
       "    }\n",
       "</style>\n",
       "<table border=\"1\" class=\"dataframe\">\n",
       "  <thead>\n",
       "    <tr style=\"text-align: right;\">\n",
       "      <th></th>\n",
       "      <th>ghics_pvlib</th>\n",
       "      <th>ghics_tl</th>\n",
       "      <th>ghics_tla</th>\n",
       "      <th>ghi</th>\n",
       "      <th>zen</th>\n",
       "      <th>dw_solar</th>\n",
       "      <th>GHI</th>\n",
       "      <th>ghics_rest</th>\n",
       "      <th>ghics_mc</th>\n",
       "      <th>CSI</th>\n",
       "    </tr>\n",
       "    <tr>\n",
       "      <th>time</th>\n",
       "      <th></th>\n",
       "      <th></th>\n",
       "      <th></th>\n",
       "      <th></th>\n",
       "      <th></th>\n",
       "      <th></th>\n",
       "      <th></th>\n",
       "      <th></th>\n",
       "      <th></th>\n",
       "      <th></th>\n",
       "    </tr>\n",
       "  </thead>\n",
       "  <tbody>\n",
       "    <tr>\n",
       "      <th>2020-01-01 15:50:00</th>\n",
       "      <td>328.551397</td>\n",
       "      <td>327.419917</td>\n",
       "      <td>333.794446</td>\n",
       "      <td>347.92</td>\n",
       "      <td>69.61</td>\n",
       "      <td>347.92</td>\n",
       "      <td>359.0</td>\n",
       "      <td>359.0</td>\n",
       "      <td>363.2448</td>\n",
       "      <td>0.969136</td>\n",
       "    </tr>\n",
       "    <tr>\n",
       "      <th>2020-01-01 15:55:00</th>\n",
       "      <td>338.063247</td>\n",
       "      <td>336.924446</td>\n",
       "      <td>343.339106</td>\n",
       "      <td>357.34</td>\n",
       "      <td>69.12</td>\n",
       "      <td>357.34</td>\n",
       "      <td>369.0</td>\n",
       "      <td>369.0</td>\n",
       "      <td>373.0872</td>\n",
       "      <td>0.968401</td>\n",
       "    </tr>\n",
       "    <tr>\n",
       "      <th>2020-01-01 16:00:00</th>\n",
       "      <td>347.243301</td>\n",
       "      <td>346.097706</td>\n",
       "      <td>352.549600</td>\n",
       "      <td>365.98</td>\n",
       "      <td>68.66</td>\n",
       "      <td>365.98</td>\n",
       "      <td>378.0</td>\n",
       "      <td>378.0</td>\n",
       "      <td>382.5876</td>\n",
       "      <td>0.968201</td>\n",
       "    </tr>\n",
       "    <tr>\n",
       "      <th>2020-01-01 16:05:00</th>\n",
       "      <td>356.084862</td>\n",
       "      <td>354.932962</td>\n",
       "      <td>361.419405</td>\n",
       "      <td>374.50</td>\n",
       "      <td>68.20</td>\n",
       "      <td>374.50</td>\n",
       "      <td>387.0</td>\n",
       "      <td>387.0</td>\n",
       "      <td>391.7388</td>\n",
       "      <td>0.967700</td>\n",
       "    </tr>\n",
       "    <tr>\n",
       "      <th>2020-01-01 16:10:00</th>\n",
       "      <td>364.581653</td>\n",
       "      <td>363.423902</td>\n",
       "      <td>369.942400</td>\n",
       "      <td>383.04</td>\n",
       "      <td>67.77</td>\n",
       "      <td>383.04</td>\n",
       "      <td>395.0</td>\n",
       "      <td>395.0</td>\n",
       "      <td>400.5348</td>\n",
       "      <td>0.969722</td>\n",
       "    </tr>\n",
       "  </tbody>\n",
       "</table>\n",
       "</div>"
      ],
      "text/plain": [
       "                     ghics_pvlib    ghics_tl   ghics_tla     ghi    zen  \\\n",
       "time                                                                      \n",
       "2020-01-01 15:50:00   328.551397  327.419917  333.794446  347.92  69.61   \n",
       "2020-01-01 15:55:00   338.063247  336.924446  343.339106  357.34  69.12   \n",
       "2020-01-01 16:00:00   347.243301  346.097706  352.549600  365.98  68.66   \n",
       "2020-01-01 16:05:00   356.084862  354.932962  361.419405  374.50  68.20   \n",
       "2020-01-01 16:10:00   364.581653  363.423902  369.942400  383.04  67.77   \n",
       "\n",
       "                     dw_solar    GHI  ghics_rest  ghics_mc       CSI  \n",
       "time                                                                  \n",
       "2020-01-01 15:50:00    347.92  359.0       359.0  363.2448  0.969136  \n",
       "2020-01-01 15:55:00    357.34  369.0       369.0  373.0872  0.968401  \n",
       "2020-01-01 16:00:00    365.98  378.0       378.0  382.5876  0.968201  \n",
       "2020-01-01 16:05:00    374.50  387.0       387.0  391.7388  0.967700  \n",
       "2020-01-01 16:10:00    383.04  395.0       395.0  400.5348  0.969722  "
      ]
     },
     "execution_count": 5,
     "metadata": {},
     "output_type": "execute_result"
    }
   ],
   "source": [
    "df_ghi = pd.read_csv('\\bon_ghics_2020.csv')\n",
    "df_ghi['time'] = pd.to_datetime(df_ghi['time'])\n",
    "df_ghi = df_ghi.set_index('time')\n",
    "df_ghi = df_ghi[df_ghi['ghi'] > 0]\n",
    "\n",
    "df_ghi['CSI'] = df_ghi['ghi']/df_ghi['ghics_nsrdb'] # forecasting on clear-sky index, CSI\n",
    "df_ghi.head()"
   ]
  },
  {
   "cell_type": "code",
   "execution_count": 7,
   "metadata": {
    "colab": {
     "base_uri": "https://localhost:8080/"
    },
    "id": "uZUSUbyvgYQo",
    "outputId": "b3e64e07-fc0f-438e-ab44-84d92bdf3b28"
   },
   "outputs": [
    {
     "data": {
      "text/plain": [
       "(17220, 5479, 22699, 22699)"
      ]
     },
     "execution_count": 7,
     "metadata": {},
     "output_type": "execute_result"
    }
   ],
   "source": [
    "train_months = [1,2,4,5,7,8,10,11]\n",
    "#valid_months = []\n",
    "test_months = [3,6,9,12]\n",
    "train_index = [index for index in df_ghi.index if index.month in train_months]\n",
    "test_index = [index for index in df_ghi.index if index.month in test_months]\n",
    "len(train_index),len(test_index),len(train_index)+len(test_index),df_ghi.shape[0]"
   ]
  },
  {
   "cell_type": "code",
   "execution_count": 8,
   "metadata": {
    "colab": {
     "base_uri": "https://localhost:8080/"
    },
    "id": "0zaOfNs3gn03",
    "outputId": "a31cf447-e52f-4499-dd4c-e3ca1c2dbe58"
   },
   "outputs": [
    {
     "data": {
      "text/plain": [
       "(17220, 5479)"
      ]
     },
     "execution_count": 8,
     "metadata": {},
     "output_type": "execute_result"
    }
   ],
   "source": [
    "tr_index = train_index \n",
    "te_index = test_index \n",
    "len(tr_index),len(te_index)"
   ]
  },
  {
   "cell_type": "code",
   "execution_count": 9,
   "metadata": {
    "colab": {
     "base_uri": "https://localhost:8080/"
    },
    "id": "7LyxyW-ugYh8",
    "outputId": "7499d808-3612-4247-f46d-f7ecfabf29b6"
   },
   "outputs": [
    {
     "data": {
      "text/plain": [
       "5104"
      ]
     },
     "execution_count": 9,
     "metadata": {},
     "output_type": "execute_result"
    }
   ],
   "source": [
    "# select the time indexes\n",
    "index_ = []\n",
    "c_index = df.index\n",
    "all_index = tr_index + te_index\n",
    "for index in all_index:\n",
    "    if index in c_index and (index - datetime.timedelta(minutes=5) in c_index \n",
    "        and index - datetime.timedelta(minutes=10) in c_index\n",
    "        and index - datetime.timedelta(minutes=15) in c_index\n",
    "        and index - datetime.timedelta(minutes=20) in c_index \n",
    "        and index - datetime.timedelta(minutes=25) in c_index \n",
    "        and index - datetime.timedelta(minutes=30) in c_index\n",
    "        and index - datetime.timedelta(minutes=35) in c_index \n",
    "        and index - datetime.timedelta(minutes=40) in c_index\n",
    "        and index - datetime.timedelta(minutes=45) in c_index \n",
    "        and index - datetime.timedelta(minutes=50) in c_index\n",
    "        and index - datetime.timedelta(minutes=55) in c_index \n",
    "        and index - datetime.timedelta(minutes=60) in c_index\n",
    "        and index + datetime.timedelta(minutes=15) in all_index \n",
    "        and index + datetime.timedelta(minutes=30) in all_index\n",
    "        and index + datetime.timedelta(minutes=45) in all_index \n",
    "        and index + datetime.timedelta(minutes=60) in all_index\n",
    "        and index + datetime.timedelta(minutes=90) in all_index \n",
    "        and index + datetime.timedelta(minutes=120) in all_index\n",
    "        and index + datetime.timedelta(minutes=150) in all_index \n",
    "        and index + datetime.timedelta(minutes=180) in all_index\n",
    "                            ):\n",
    "        index_.append(index)\n",
    "len(index_)"
   ]
  },
  {
   "cell_type": "code",
   "execution_count": 10,
   "metadata": {
    "id": "upbpWE1Ahvwd"
   },
   "outputs": [],
   "source": [
    "tr_index_00 = [index for index in index_ if index in tr_index]\n",
    "\n",
    "tr_index_60 = [index - datetime.timedelta(minutes=60) for index in tr_index_00]\n",
    "tr_index_55 = [index - datetime.timedelta(minutes=55) for index in tr_index_00]\n",
    "tr_index_50 = [index - datetime.timedelta(minutes=50) for index in tr_index_00]\n",
    "tr_index_45 = [index - datetime.timedelta(minutes=45) for index in tr_index_00]\n",
    "tr_index_40 = [index - datetime.timedelta(minutes=40) for index in tr_index_00]\n",
    "tr_index_35 = [index - datetime.timedelta(minutes=35) for index in tr_index_00]\n",
    "tr_index_30 = [index - datetime.timedelta(minutes=30) for index in tr_index_00] \n",
    "tr_index_25 = [index - datetime.timedelta(minutes=25) for index in tr_index_00]\n",
    "tr_index_20 = [index - datetime.timedelta(minutes=20) for index in tr_index_00]\n",
    "tr_index_15 = [index - datetime.timedelta(minutes=15) for index in tr_index_00]\n",
    "tr_index_10 = [index - datetime.timedelta(minutes=10) for index in tr_index_00]\n",
    "tr_index_05 = [index - datetime.timedelta(minutes=5) for index in tr_index_00]\n",
    "\n",
    "tr_index15  = [index + datetime.timedelta(minutes=15) for index in tr_index_00]\n",
    "tr_index30  = [index + datetime.timedelta(minutes=30) for index in tr_index_00]\n",
    "tr_index45  = [index + datetime.timedelta(minutes=45) for index in tr_index_00]\n",
    "tr_index60  = [index + datetime.timedelta(minutes=60) for index in tr_index_00]\n",
    "tr_index90  = [index + datetime.timedelta(minutes=90) for index in tr_index_00]\n",
    "tr_index120  = [index + datetime.timedelta(minutes=120) for index in tr_index_00]\n",
    "tr_index150  = [index + datetime.timedelta(minutes=150) for index in tr_index_00]\n",
    "tr_index180  = [index + datetime.timedelta(minutes=180) for index in tr_index_00]"
   ]
  },
  {
   "cell_type": "code",
   "execution_count": 11,
   "metadata": {
    "colab": {
     "base_uri": "https://localhost:8080/"
    },
    "id": "ODJ3Bk4Dhv4y",
    "outputId": "1663fa0a-bf10-4be1-fcc5-294d00adcc97"
   },
   "outputs": [],
   "source": [
    "times = ['_60','_55','_50','_45','_40','_35','_30','_25','_20','_15','_10','_05','_00']\n",
    "indexes = [tr_index_60,tr_index_55,tr_index_50,tr_index_45,tr_index_40,tr_index_35,tr_index_30,\n",
    "           tr_index_25,tr_index_20,tr_index_15,tr_index_10,tr_index_15,tr_index_00]\n",
    "\n",
    "inputs = {}\n",
    "\n",
    "for time,index in zip(times,indexes):\n",
    "    inputs['train'+time] = df.loc[index].values.reshape(len(index),11,11)\n",
    "\n",
    "#inputs"
   ]
  },
  {
   "cell_type": "code",
   "execution_count": 13,
   "metadata": {
    "id": "tDdqlkcvhv9z"
   },
   "outputs": [],
   "source": [
    "te_index_00 = [index for index in index_ if index in te_index]\n",
    "\n",
    "te_index_60 = [index - datetime.timedelta(minutes=60) for index in te_index_00]\n",
    "te_index_55 = [index - datetime.timedelta(minutes=55) for index in te_index_00]\n",
    "te_index_50 = [index - datetime.timedelta(minutes=50) for index in te_index_00]\n",
    "te_index_45 = [index - datetime.timedelta(minutes=45) for index in te_index_00]\n",
    "te_index_40 = [index - datetime.timedelta(minutes=40) for index in te_index_00]\n",
    "te_index_35 = [index - datetime.timedelta(minutes=35) for index in te_index_00]\n",
    "te_index_30 = [index - datetime.timedelta(minutes=30) for index in te_index_00] \n",
    "te_index_25 = [index - datetime.timedelta(minutes=25) for index in te_index_00]\n",
    "te_index_20 = [index - datetime.timedelta(minutes=20) for index in te_index_00]\n",
    "te_index_15 = [index - datetime.timedelta(minutes=15) for index in te_index_00]\n",
    "te_index_10 = [index - datetime.timedelta(minutes=10) for index in te_index_00]\n",
    "te_index_05 = [index - datetime.timedelta(minutes=5) for index in te_index_00]\n",
    "\n",
    "te_index15  = [index + datetime.timedelta(minutes=15) for index in te_index_00]\n",
    "te_index30  = [index + datetime.timedelta(minutes=30) for index in te_index_00]\n",
    "te_index45  = [index + datetime.timedelta(minutes=45) for index in te_index_00]\n",
    "te_index60  = [index + datetime.timedelta(minutes=60) for index in te_index_00]\n",
    "te_index90  = [index + datetime.timedelta(minutes=90) for index in te_index_00]\n",
    "te_index120  = [index + datetime.timedelta(minutes=120) for index in te_index_00]\n",
    "te_index150  = [index + datetime.timedelta(minutes=150) for index in te_index_00]\n",
    "te_index180  = [index + datetime.timedelta(minutes=180) for index in te_index_00]"
   ]
  },
  {
   "cell_type": "code",
   "execution_count": 14,
   "metadata": {
    "colab": {
     "base_uri": "https://localhost:8080/"
    },
    "id": "vzuE8IZBhwGG",
    "outputId": "0a13588f-b626-4f8b-c1f2-3f0af69c7dc7"
   },
   "outputs": [],
   "source": [
    "times = ['_60','_55','_50','_45','_40','_35','_30','_25','_20','_15','_10','_05','_00']\n",
    "indexes = [te_index_60,te_index_55,te_index_50,te_index_45,te_index_40,te_index_35,te_index_30,\n",
    "           te_index_25,te_index_20,te_index_15,te_index_10,te_index_05,te_index_00]\n",
    "\n",
    "te_inputs = {}\n",
    "\n",
    "for time,index in zip(times,indexes):\n",
    "    te_inputs['test'+time] = df.loc[index].values.reshape(len(index),11,11)\n",
    "\n",
    "#te_inputs"
   ]
  },
  {
   "cell_type": "code",
   "execution_count": 15,
   "metadata": {
    "id": "DH3rN5gjhwtx"
   },
   "outputs": [],
   "source": [
    "import tensorflow as tf\n",
    "from tensorflow.keras.models import Model\n",
    "from tensorflow.keras.layers import Attention, Dense, Layer, Input, Conv2D, MaxPool2D, concatenate, Flatten, Dropout, BatchNormalization\n",
    "from tensorflow.keras.utils import plot_model\n",
    "from tensorflow.keras import regularizers, callbacks\n",
    "import tensorflow.keras.backend as K "
   ]
  },
  {
   "cell_type": "code",
   "execution_count": 16,
   "metadata": {},
   "outputs": [],
   "source": [
    "class attention(Layer):\n",
    "    \n",
    "    def __init__(self,**kwargs):\n",
    "        super(attention,self).__init__(**kwargs)\n",
    "        \n",
    "    def build(self,input_shape):\n",
    "        self.W = self.add_weight(name = 'attention_weight', shape = (input_shape[-1],1),\n",
    "                                 initializer = 'random_normal', trainable = True)\n",
    "        self.b = self.add_weight(name = 'attention_bias', shape = (input_shape[1],1),\n",
    "                                 initializer = 'zeros', trainable = True)\n",
    "        super(attention,self).build(input_shape)\n",
    "        \n",
    "    def call(self,x):\n",
    "        e = K.tanh(K.dot(x,self.W)+self.b)\n",
    "        e = K.squeeze(e,axis=-1)\n",
    "        alpha = K.softmax(e)\n",
    "        alpha = K.expand_dims(alpha,axis=-1)\n",
    "        context = x*alpha\n",
    "        context = K.sum(context,axis=1)\n",
    "        return context"
   ]
  },
  {
   "cell_type": "code",
   "execution_count": 17,
   "metadata": {
    "id": "1_YInrnEhwwd"
   },
   "outputs": [],
   "source": [
    "def input_one(hp,input_x):\n",
    "    \n",
    "    x = BatchNormalization()(input_x)\n",
    "    \n",
    "    return x\n",
    "\n",
    "def input_all(hp,input_60,input_55,input_50,input_45,input_40,input_35,input_30,input_25,input_20,input_15,input_10,input_05,input_00):\n",
    "    \n",
    "    x_60 = input_one(hp,input_60)\n",
    "    x_55 = input_one(hp,input_55)\n",
    "    x_50 = input_one(hp,input_50)\n",
    "    x_45 = input_one(hp,input_45)\n",
    "    x_40 = input_one(hp,input_40)\n",
    "    x_35 = input_one(hp,input_35)\n",
    "    x_30 = input_one(hp,input_30)\n",
    "    x_25 = input_one(hp,input_25)\n",
    "    x_20 = input_one(hp,input_20)\n",
    "    x_15 = input_one(hp,input_15)\n",
    "    x_10 = input_one(hp,input_10)\n",
    "    x_05 = input_one(hp,input_05)\n",
    "    x_00 = input_one(hp,input_00)\n",
    "    \n",
    "    x = concatenate([x_60,x_55,x_50,x_45,x_40,x_35,x_30,x_25,x_20,x_15,x_10,x_05,x_00])\n",
    "    \n",
    "    return x"
   ]
  },
  {
   "cell_type": "code",
   "execution_count": 18,
   "metadata": {
    "colab": {
     "base_uri": "https://localhost:8080/",
     "height": 1000
    },
    "id": "zphSD0y8hw4H",
    "outputId": "9b6622af-387f-4404-b4be-b2f7d03d01b0"
   },
   "outputs": [],
   "source": [
    "def model_builder(hp):\n",
    "    \n",
    "    input_60 = Input(shape=[11,11,1])\n",
    "    input_55 = Input(shape=[11,11,1])\n",
    "    input_50 = Input(shape=[11,11,1])\n",
    "    input_45 = Input(shape=[11,11,1])\n",
    "    input_40 = Input(shape=[11,11,1])\n",
    "    input_35 = Input(shape=[11,11,1])\n",
    "    input_30 = Input(shape=[11,11,1])\n",
    "    input_25 = Input(shape=[11,11,1])\n",
    "    input_20 = Input(shape=[11,11,1])\n",
    "    input_15 = Input(shape=[11,11,1])\n",
    "    input_10 = Input(shape=[11,11,1])\n",
    "    input_05 = Input(shape=[11,11,1])\n",
    "    input_00 = Input(shape=[11,11,1])\n",
    "\n",
    "    x = input_all(hp,input_60,input_55,input_50,input_45,input_40,input_35,input_30,input_25,input_20,input_15,input_10,input_05,input_00)\n",
    "\n",
    "    hp_layer_1 = hp.Int('layer_1', min_value=16, max_value=128, step=16)\n",
    "    hp_layer_2 = hp.Int('layer_2', min_value=8, max_value=64, step=8)\n",
    "    hp_layer_3 = hp.Int('layer_3', min_value=8, max_value=64, step=8)\n",
    "    hp_layer_4 = hp.Int('layer_4', min_value=8, max_value=64, step=8)\n",
    "    \n",
    "    hp_activation_1 = hp.Choice('activation_1', values=['relu','gelu','selu'])\n",
    "    hp_activation_2 = hp.Choice('activation_2', values=['relu','gelu','selu'])\n",
    "    hp_activation_3 = hp.Choice('activation_3', values=['relu','gelu','selu'])\n",
    "    hp_activation_4 = hp.Choice('activation_4', values=['relu','gelu','selu','linear'])\n",
    "    \n",
    "    x = Conv2D(filters=hp_layer_1, kernel_size = 3, activation = hp_activation_1)(x)\n",
    "    x = BatchNormalization()(x)\n",
    "    x = MaxPool2D((2,2))(x)\n",
    "    x = BatchNormalization()(x)\n",
    "    x = Conv2D(filters=hp_layer_2, kernel_size = 3, activation = hp_activation_2)(x)\n",
    "    x = BatchNormalization()(x)\n",
    "    # x = MaxPool2D((2,2))(x)\n",
    "    # x = BatchNormalization()(x)\n",
    "    x = attention()(x)\n",
    "    x = BatchNormalization()(x)\n",
    "\n",
    "    x = Flatten()(x)\n",
    "\n",
    "    x = Dense(units=hp_layer_3, activation = hp_activation_3, kernel_regularizer = regularizers.l2(0.01))(x)\n",
    "\n",
    "    x = Dense(units=hp_layer_4, activation = hp_activation_4)(x)\n",
    "\n",
    "    output_15 = Dense(1, activation = 'relu')(x)\n",
    "\n",
    "    output_30 = Dense(1, activation = 'relu')(x)\n",
    "\n",
    "    output_45 = Dense(1, activation = 'relu')(x)\n",
    "\n",
    "    output_60 = Dense(1, activation = 'relu')(x)\n",
    "    \n",
    "    output_90 = Dense(1, activation = 'relu')(x)\n",
    "\n",
    "    output_120 = Dense(1, activation = 'relu')(x)\n",
    "\n",
    "    output_150 = Dense(1, activation = 'relu')(x)\n",
    "\n",
    "    output_180 = Dense(1, activation = 'relu')(x)\n",
    "\n",
    "    model = Model(inputs = [input_60,input_55,input_50,input_45,input_40,\n",
    "                            input_35,input_30,input_25,input_20,input_15,\n",
    "                            input_10,input_05,input_00],\n",
    "                  outputs = [output_15,output_30,output_45,output_60,output_90,output_120,output_150,output_180]\n",
    "                 )\n",
    "    \n",
    "    hp_learning_rate = hp.Choice('learning_rate', values=[1e-5,1e-4,2e-4,5e-4,1e-3,2e-3,1e-2])\n",
    "    \n",
    "    model.compile(optimizer = tf.keras.optimizers.Adam(learning_rate=hp_learning_rate),\n",
    "             loss = 'huber',\n",
    "             metrics = tf.keras.metrics.MeanAbsoluteError())\n",
    "\n",
    "    return model"
   ]
  },
  {
   "cell_type": "code",
   "execution_count": 19,
   "metadata": {},
   "outputs": [],
   "source": [
    "import keras_tuner as kt\n",
    "\n",
    "tuner = kt.BayesianOptimization(model_builder,\n",
    "                                objective=kt.Objective(\"val_loss\",direction=\"min\"),\n",
    "                                max_trials=50,\n",
    "                                seed=3,\n",
    "                                directory='forecasting',\n",
    "                                project_name='bon3h_sat-dl')"
   ]
  },
  {
   "cell_type": "code",
   "execution_count": 20,
   "metadata": {
    "id": "wxCmomSjjafu"
   },
   "outputs": [],
   "source": [
    "early_stop = callbacks.EarlyStopping(monitor='val_loss',mode='min',patience=5)\n",
    "callback_list = [early_stop]"
   ]
  },
  {
   "cell_type": "code",
   "execution_count": 21,
   "metadata": {
    "id": "UTFv2k4vjkur"
   },
   "outputs": [],
   "source": [
    "train_output_15 = df_ghi.loc[tr_index15,'CSI'].values.reshape(len(tr_index15),1)\n",
    "train_output_30 = df_ghi.loc[tr_index30,'CSI'].values.reshape(len(tr_index30),1)\n",
    "train_output_45 = df_ghi.loc[tr_index45,'CSI'].values.reshape(len(tr_index45),1)\n",
    "train_output_60 = df_ghi.loc[tr_index60,'CSI'].values.reshape(len(tr_index60),1)\n",
    "train_output_90 = df_ghi.loc[tr_index90,'CSI'].values.reshape(len(tr_index90),1)\n",
    "train_output_120 = df_ghi.loc[tr_index120,'CSI'].values.reshape(len(tr_index120),1)\n",
    "train_output_150 = df_ghi.loc[tr_index150,'CSI'].values.reshape(len(tr_index150),1)\n",
    "train_output_180 = df_ghi.loc[tr_index180,'CSI'].values.reshape(len(tr_index180),1)\n",
    "\n",
    "test_output_15 = df_ghi.loc[te_index15,'CSI'].values.reshape(len(te_index15),1)\n",
    "test_output_30 = df_ghi.loc[te_index30,'CSI'].values.reshape(len(te_index30),1)\n",
    "test_output_45 = df_ghi.loc[te_index45,'CSI'].values.reshape(len(te_index45),1)\n",
    "test_output_60 = df_ghi.loc[te_index60,'CSI'].values.reshape(len(te_index60),1)\n",
    "test_output_90 = df_ghi.loc[te_index90,'CSI'].values.reshape(len(te_index90),1)\n",
    "test_output_120 = df_ghi.loc[te_index120,'CSI'].values.reshape(len(te_index120),1)\n",
    "test_output_150 = df_ghi.loc[te_index150,'CSI'].values.reshape(len(te_index150),1)\n",
    "test_output_180 = df_ghi.loc[te_index180,'CSI'].values.reshape(len(te_index180),1)"
   ]
  },
  {
   "cell_type": "code",
   "execution_count": 22,
   "metadata": {},
   "outputs": [
    {
     "name": "stdout",
     "output_type": "stream",
     "text": [
      "Trial 50 Complete [00h 00m 23s]\n",
      "val_output_15_mean_absolute_error: 0.08690578490495682\n",
      "\n",
      "Best val_output_15_mean_absolute_error So Far: 0.035396188497543335\n",
      "Total elapsed time: 00h 17m 39s\n",
      "INFO:tensorflow:Oracle triggered exit\n"
     ]
    }
   ],
   "source": [
    "tuner.search([inputs[key] for key in inputs.keys()],\n",
    "             [train_output_15,train_output_30,train_output_45,train_output_60,\n",
    "              train_output_90,train_output_120,train_output_150,train_output_180], \n",
    "             epochs=5, \n",
    "             validation_split=0.2, \n",
    "             shuffle = True,\n",
    "             callbacks=callback_list)"
   ]
  },
  {
   "cell_type": "code",
   "execution_count": 24,
   "metadata": {},
   "outputs": [
    {
     "name": "stdout",
     "output_type": "stream",
     "text": [
      "Epoch 1/100\n",
      "88/88 [==============================] - 6s 43ms/step - loss: 1.1345 - output_15_loss: 0.1197 - dense_8_loss: 0.0683 - dense_9_loss: 0.0781 - output_60_loss: 0.0780 - output_90_loss: 0.0481 - dense_10_loss: 0.0971 - dense_11_loss: 0.1511 - output_180_loss: 0.2918 - output_15_mean_absolute_error: 0.3416 - dense_8_mean_absolute_error: 0.2515 - dense_9_mean_absolute_error: 0.2648 - output_60_mean_absolute_error: 0.2690 - output_90_mean_absolute_error: 0.2057 - dense_10_mean_absolute_error: 0.3038 - dense_11_mean_absolute_error: 0.4086 - output_180_mean_absolute_error: 0.6554 - val_loss: 0.7669 - val_output_15_loss: 0.0295 - val_dense_8_loss: 0.0034 - val_dense_9_loss: 0.0208 - val_output_60_loss: 0.0038 - val_output_90_loss: 0.0325 - val_dense_10_loss: 0.0683 - val_dense_11_loss: 0.0045 - val_output_180_loss: 0.4216 - val_output_15_mean_absolute_error: 0.2346 - val_dense_8_mean_absolute_error: 0.0405 - val_dense_9_mean_absolute_error: 0.1956 - val_output_60_mean_absolute_error: 0.0503 - val_output_90_mean_absolute_error: 0.2409 - val_dense_10_mean_absolute_error: 0.3510 - val_dense_11_mean_absolute_error: 0.0532 - val_output_180_mean_absolute_error: 0.9096\n",
      "Epoch 2/100\n",
      "88/88 [==============================] - 3s 37ms/step - loss: 0.3621 - output_15_loss: 0.0094 - dense_8_loss: 0.0085 - dense_9_loss: 0.0098 - output_60_loss: 0.0075 - output_90_loss: 0.0088 - dense_10_loss: 0.0096 - dense_11_loss: 0.0366 - output_180_loss: 0.1093 - output_15_mean_absolute_error: 0.1002 - dense_8_mean_absolute_error: 0.0972 - dense_9_mean_absolute_error: 0.1061 - output_60_mean_absolute_error: 0.0885 - output_90_mean_absolute_error: 0.0969 - dense_10_mean_absolute_error: 0.1022 - dense_11_mean_absolute_error: 0.1712 - output_180_mean_absolute_error: 0.3091 - val_loss: 0.1804 - val_output_15_loss: 0.0052 - val_dense_8_loss: 0.0040 - val_dense_9_loss: 0.0043 - val_output_60_loss: 0.0029 - val_output_90_loss: 0.0037 - val_dense_10_loss: 0.0047 - val_dense_11_loss: 0.0052 - val_output_180_loss: 0.0078 - val_output_15_mean_absolute_error: 0.0644 - val_dense_8_mean_absolute_error: 0.0436 - val_dense_9_mean_absolute_error: 0.0621 - val_output_60_mean_absolute_error: 0.0428 - val_output_90_mean_absolute_error: 0.0473 - val_dense_10_mean_absolute_error: 0.0526 - val_dense_11_mean_absolute_error: 0.0635 - val_output_180_mean_absolute_error: 0.0902\n",
      "Epoch 3/100\n",
      "88/88 [==============================] - 4s 41ms/step - loss: 0.1840 - output_15_loss: 0.0057 - dense_8_loss: 0.0065 - dense_9_loss: 0.0075 - output_60_loss: 0.0066 - output_90_loss: 0.0070 - dense_10_loss: 0.0068 - dense_11_loss: 0.0090 - output_180_loss: 0.0092 - output_15_mean_absolute_error: 0.0742 - dense_8_mean_absolute_error: 0.0819 - dense_9_mean_absolute_error: 0.0906 - output_60_mean_absolute_error: 0.0822 - output_90_mean_absolute_error: 0.0854 - dense_10_mean_absolute_error: 0.0832 - dense_11_mean_absolute_error: 0.0984 - output_180_mean_absolute_error: 0.0975 - val_loss: 0.1431 - val_output_15_loss: 0.0043 - val_dense_8_loss: 0.0040 - val_dense_9_loss: 0.0039 - val_output_60_loss: 0.0025 - val_output_90_loss: 0.0042 - val_dense_10_loss: 0.0035 - val_dense_11_loss: 0.0053 - val_output_180_loss: 0.0052 - val_output_15_mean_absolute_error: 0.0506 - val_dense_8_mean_absolute_error: 0.0480 - val_dense_9_mean_absolute_error: 0.0700 - val_output_60_mean_absolute_error: 0.0411 - val_output_90_mean_absolute_error: 0.0708 - val_dense_10_mean_absolute_error: 0.0502 - val_dense_11_mean_absolute_error: 0.0716 - val_output_180_mean_absolute_error: 0.0638\n",
      "Epoch 4/100\n",
      "88/88 [==============================] - 4s 44ms/step - loss: 0.1480 - output_15_loss: 0.0053 - dense_8_loss: 0.0056 - dense_9_loss: 0.0062 - output_60_loss: 0.0058 - output_90_loss: 0.0062 - dense_10_loss: 0.0060 - dense_11_loss: 0.0076 - output_180_loss: 0.0082 - output_15_mean_absolute_error: 0.0692 - dense_8_mean_absolute_error: 0.0741 - dense_9_mean_absolute_error: 0.0802 - output_60_mean_absolute_error: 0.0754 - output_90_mean_absolute_error: 0.0782 - dense_10_mean_absolute_error: 0.0759 - dense_11_mean_absolute_error: 0.0889 - output_180_mean_absolute_error: 0.0897 - val_loss: 0.1272 - val_output_15_loss: 0.0060 - val_dense_8_loss: 0.0040 - val_dense_9_loss: 0.0062 - val_output_60_loss: 0.0032 - val_output_90_loss: 0.0060 - val_dense_10_loss: 0.0042 - val_dense_11_loss: 0.0068 - val_output_180_loss: 0.0063 - val_output_15_mean_absolute_error: 0.0706 - val_dense_8_mean_absolute_error: 0.0546 - val_dense_9_mean_absolute_error: 0.0949 - val_output_60_mean_absolute_error: 0.0542 - val_output_90_mean_absolute_error: 0.0914 - val_dense_10_mean_absolute_error: 0.0534 - val_dense_11_mean_absolute_error: 0.0890 - val_output_180_mean_absolute_error: 0.0755\n",
      "Epoch 5/100\n",
      "88/88 [==============================] - 4s 43ms/step - loss: 0.1235 - output_15_loss: 0.0050 - dense_8_loss: 0.0054 - dense_9_loss: 0.0059 - output_60_loss: 0.0056 - output_90_loss: 0.0059 - dense_10_loss: 0.0059 - dense_11_loss: 0.0077 - output_180_loss: 0.0082 - output_15_mean_absolute_error: 0.0670 - dense_8_mean_absolute_error: 0.0720 - dense_9_mean_absolute_error: 0.0774 - output_60_mean_absolute_error: 0.0741 - output_90_mean_absolute_error: 0.0769 - dense_10_mean_absolute_error: 0.0757 - dense_11_mean_absolute_error: 0.0893 - output_180_mean_absolute_error: 0.0910 - val_loss: 0.0950 - val_output_15_loss: 0.0033 - val_dense_8_loss: 0.0025 - val_dense_9_loss: 0.0036 - val_output_60_loss: 0.0025 - val_output_90_loss: 0.0046 - val_dense_10_loss: 0.0034 - val_dense_11_loss: 0.0059 - val_output_180_loss: 0.0051 - val_output_15_mean_absolute_error: 0.0475 - val_dense_8_mean_absolute_error: 0.0350 - val_dense_9_mean_absolute_error: 0.0653 - val_output_60_mean_absolute_error: 0.0433 - val_output_90_mean_absolute_error: 0.0732 - val_dense_10_mean_absolute_error: 0.0456 - val_dense_11_mean_absolute_error: 0.0841 - val_output_180_mean_absolute_error: 0.0646\n",
      "Epoch 6/100\n",
      "88/88 [==============================] - 4s 43ms/step - loss: 0.1026 - output_15_loss: 0.0047 - dense_8_loss: 0.0052 - dense_9_loss: 0.0053 - output_60_loss: 0.0053 - output_90_loss: 0.0054 - dense_10_loss: 0.0060 - dense_11_loss: 0.0068 - output_180_loss: 0.0077 - output_15_mean_absolute_error: 0.0646 - dense_8_mean_absolute_error: 0.0704 - dense_9_mean_absolute_error: 0.0722 - output_60_mean_absolute_error: 0.0704 - output_90_mean_absolute_error: 0.0712 - dense_10_mean_absolute_error: 0.0759 - dense_11_mean_absolute_error: 0.0823 - output_180_mean_absolute_error: 0.0861 - val_loss: 0.0750 - val_output_15_loss: 0.0036 - val_dense_8_loss: 0.0025 - val_dense_9_loss: 0.0025 - val_output_60_loss: 0.0020 - val_output_90_loss: 0.0036 - val_dense_10_loss: 0.0031 - val_dense_11_loss: 0.0044 - val_output_180_loss: 0.0047 - val_output_15_mean_absolute_error: 0.0607 - val_dense_8_mean_absolute_error: 0.0393 - val_dense_9_mean_absolute_error: 0.0515 - val_output_60_mean_absolute_error: 0.0404 - val_output_90_mean_absolute_error: 0.0610 - val_dense_10_mean_absolute_error: 0.0452 - val_dense_11_mean_absolute_error: 0.0676 - val_output_180_mean_absolute_error: 0.0705\n",
      "Epoch 7/100\n",
      "88/88 [==============================] - 3s 39ms/step - loss: 0.0871 - output_15_loss: 0.0048 - dense_8_loss: 0.0051 - dense_9_loss: 0.0050 - output_60_loss: 0.0051 - output_90_loss: 0.0051 - dense_10_loss: 0.0055 - dense_11_loss: 0.0065 - output_180_loss: 0.0076 - output_15_mean_absolute_error: 0.0656 - dense_8_mean_absolute_error: 0.0669 - dense_9_mean_absolute_error: 0.0676 - output_60_mean_absolute_error: 0.0674 - output_90_mean_absolute_error: 0.0676 - dense_10_mean_absolute_error: 0.0723 - dense_11_mean_absolute_error: 0.0771 - output_180_mean_absolute_error: 0.0850 - val_loss: 0.0634 - val_output_15_loss: 0.0033 - val_dense_8_loss: 0.0025 - val_dense_9_loss: 0.0022 - val_output_60_loss: 0.0022 - val_output_90_loss: 0.0031 - val_dense_10_loss: 0.0034 - val_dense_11_loss: 0.0048 - val_output_180_loss: 0.0052 - val_output_15_mean_absolute_error: 0.0528 - val_dense_8_mean_absolute_error: 0.0373 - val_dense_9_mean_absolute_error: 0.0377 - val_output_60_mean_absolute_error: 0.0359 - val_output_90_mean_absolute_error: 0.0396 - val_dense_10_mean_absolute_error: 0.0451 - val_dense_11_mean_absolute_error: 0.0596 - val_output_180_mean_absolute_error: 0.0615\n",
      "Epoch 8/100\n",
      "88/88 [==============================] - 3s 32ms/step - loss: 0.0759 - output_15_loss: 0.0044 - dense_8_loss: 0.0049 - dense_9_loss: 0.0049 - output_60_loss: 0.0049 - output_90_loss: 0.0052 - dense_10_loss: 0.0053 - dense_11_loss: 0.0067 - output_180_loss: 0.0075 - output_15_mean_absolute_error: 0.0596 - dense_8_mean_absolute_error: 0.0655 - dense_9_mean_absolute_error: 0.0657 - output_60_mean_absolute_error: 0.0661 - output_90_mean_absolute_error: 0.0673 - dense_10_mean_absolute_error: 0.0683 - dense_11_mean_absolute_error: 0.0806 - output_180_mean_absolute_error: 0.0848 - val_loss: 0.0526 - val_output_15_loss: 0.0028 - val_dense_8_loss: 0.0028 - val_dense_9_loss: 0.0020 - val_output_60_loss: 0.0023 - val_output_90_loss: 0.0029 - val_dense_10_loss: 0.0031 - val_dense_11_loss: 0.0039 - val_output_180_loss: 0.0049 - val_output_15_mean_absolute_error: 0.0456 - val_dense_8_mean_absolute_error: 0.0471 - val_dense_9_mean_absolute_error: 0.0316 - val_output_60_mean_absolute_error: 0.0348 - val_output_90_mean_absolute_error: 0.0380 - val_dense_10_mean_absolute_error: 0.0417 - val_dense_11_mean_absolute_error: 0.0556 - val_output_180_mean_absolute_error: 0.0620\n",
      "Epoch 9/100\n",
      "88/88 [==============================] - 4s 41ms/step - loss: 0.0656 - output_15_loss: 0.0043 - dense_8_loss: 0.0048 - dense_9_loss: 0.0046 - output_60_loss: 0.0047 - output_90_loss: 0.0045 - dense_10_loss: 0.0051 - dense_11_loss: 0.0061 - output_180_loss: 0.0073 - output_15_mean_absolute_error: 0.0598 - dense_8_mean_absolute_error: 0.0645 - dense_9_mean_absolute_error: 0.0629 - output_60_mean_absolute_error: 0.0636 - output_90_mean_absolute_error: 0.0621 - dense_10_mean_absolute_error: 0.0671 - dense_11_mean_absolute_error: 0.0737 - output_180_mean_absolute_error: 0.0821 - val_loss: 0.0494 - val_output_15_loss: 0.0031 - val_dense_8_loss: 0.0028 - val_dense_9_loss: 0.0027 - val_output_60_loss: 0.0028 - val_output_90_loss: 0.0041 - val_dense_10_loss: 0.0039 - val_dense_11_loss: 0.0045 - val_output_180_loss: 0.0046 - val_output_15_mean_absolute_error: 0.0547 - val_dense_8_mean_absolute_error: 0.0401 - val_dense_9_mean_absolute_error: 0.0507 - val_output_60_mean_absolute_error: 0.0528 - val_output_90_mean_absolute_error: 0.0660 - val_dense_10_mean_absolute_error: 0.0572 - val_dense_11_mean_absolute_error: 0.0638 - val_output_180_mean_absolute_error: 0.0659\n",
      "Epoch 10/100\n",
      "88/88 [==============================] - 3s 39ms/step - loss: 0.0606 - output_15_loss: 0.0043 - dense_8_loss: 0.0047 - dense_9_loss: 0.0046 - output_60_loss: 0.0048 - output_90_loss: 0.0049 - dense_10_loss: 0.0052 - dense_11_loss: 0.0064 - output_180_loss: 0.0073 - output_15_mean_absolute_error: 0.0598 - dense_8_mean_absolute_error: 0.0629 - dense_9_mean_absolute_error: 0.0632 - output_60_mean_absolute_error: 0.0635 - output_90_mean_absolute_error: 0.0661 - dense_10_mean_absolute_error: 0.0672 - dense_11_mean_absolute_error: 0.0768 - output_180_mean_absolute_error: 0.0825 - val_loss: 0.0431 - val_output_15_loss: 0.0026 - val_dense_8_loss: 0.0026 - val_dense_9_loss: 0.0021 - val_output_60_loss: 0.0025 - val_output_90_loss: 0.0035 - val_dense_10_loss: 0.0040 - val_dense_11_loss: 0.0044 - val_output_180_loss: 0.0055 - val_output_15_mean_absolute_error: 0.0386 - val_dense_8_mean_absolute_error: 0.0470 - val_dense_9_mean_absolute_error: 0.0387 - val_output_60_mean_absolute_error: 0.0499 - val_output_90_mean_absolute_error: 0.0514 - val_dense_10_mean_absolute_error: 0.0630 - val_dense_11_mean_absolute_error: 0.0571 - val_output_180_mean_absolute_error: 0.0670\n",
      "Epoch 11/100\n",
      "88/88 [==============================] - 4s 41ms/step - loss: 0.0557 - output_15_loss: 0.0042 - dense_8_loss: 0.0046 - dense_9_loss: 0.0047 - output_60_loss: 0.0048 - output_90_loss: 0.0048 - dense_10_loss: 0.0051 - dense_11_loss: 0.0062 - output_180_loss: 0.0073 - output_15_mean_absolute_error: 0.0586 - dense_8_mean_absolute_error: 0.0612 - dense_9_mean_absolute_error: 0.0628 - output_60_mean_absolute_error: 0.0636 - output_90_mean_absolute_error: 0.0641 - dense_10_mean_absolute_error: 0.0664 - dense_11_mean_absolute_error: 0.0753 - output_180_mean_absolute_error: 0.0817 - val_loss: 0.0395 - val_output_15_loss: 0.0036 - val_dense_8_loss: 0.0031 - val_dense_9_loss: 0.0023 - val_output_60_loss: 0.0026 - val_output_90_loss: 0.0033 - val_dense_10_loss: 0.0034 - val_dense_11_loss: 0.0041 - val_output_180_loss: 0.0049 - val_output_15_mean_absolute_error: 0.0425 - val_dense_8_mean_absolute_error: 0.0406 - val_dense_9_mean_absolute_error: 0.0367 - val_output_60_mean_absolute_error: 0.0369 - val_output_90_mean_absolute_error: 0.0452 - val_dense_10_mean_absolute_error: 0.0414 - val_dense_11_mean_absolute_error: 0.0523 - val_output_180_mean_absolute_error: 0.0594\n",
      "Epoch 12/100\n",
      "88/88 [==============================] - 4s 43ms/step - loss: 0.0509 - output_15_loss: 0.0041 - dense_8_loss: 0.0045 - dense_9_loss: 0.0043 - output_60_loss: 0.0045 - output_90_loss: 0.0045 - dense_10_loss: 0.0049 - dense_11_loss: 0.0060 - output_180_loss: 0.0071 - output_15_mean_absolute_error: 0.0580 - dense_8_mean_absolute_error: 0.0609 - dense_9_mean_absolute_error: 0.0587 - output_60_mean_absolute_error: 0.0593 - output_90_mean_absolute_error: 0.0594 - dense_10_mean_absolute_error: 0.0635 - dense_11_mean_absolute_error: 0.0724 - output_180_mean_absolute_error: 0.0808 - val_loss: 0.0387 - val_output_15_loss: 0.0030 - val_dense_8_loss: 0.0032 - val_dense_9_loss: 0.0024 - val_output_60_loss: 0.0027 - val_output_90_loss: 0.0035 - val_dense_10_loss: 0.0043 - val_dense_11_loss: 0.0045 - val_output_180_loss: 0.0057 - val_output_15_mean_absolute_error: 0.0381 - val_dense_8_mean_absolute_error: 0.0410 - val_dense_9_mean_absolute_error: 0.0358 - val_output_60_mean_absolute_error: 0.0380 - val_output_90_mean_absolute_error: 0.0426 - val_dense_10_mean_absolute_error: 0.0535 - val_dense_11_mean_absolute_error: 0.0541 - val_output_180_mean_absolute_error: 0.0646\n",
      "Epoch 13/100\n",
      "88/88 [==============================] - 4s 44ms/step - loss: 0.0474 - output_15_loss: 0.0039 - dense_8_loss: 0.0043 - dense_9_loss: 0.0043 - output_60_loss: 0.0045 - output_90_loss: 0.0044 - dense_10_loss: 0.0049 - dense_11_loss: 0.0059 - output_180_loss: 0.0070 - output_15_mean_absolute_error: 0.0542 - dense_8_mean_absolute_error: 0.0575 - dense_9_mean_absolute_error: 0.0570 - output_60_mean_absolute_error: 0.0585 - output_90_mean_absolute_error: 0.0584 - dense_10_mean_absolute_error: 0.0635 - dense_11_mean_absolute_error: 0.0709 - output_180_mean_absolute_error: 0.0798 - val_loss: 0.0332 - val_output_15_loss: 0.0028 - val_dense_8_loss: 0.0026 - val_dense_9_loss: 0.0022 - val_output_60_loss: 0.0022 - val_output_90_loss: 0.0032 - val_dense_10_loss: 0.0036 - val_dense_11_loss: 0.0044 - val_output_180_loss: 0.0051 - val_output_15_mean_absolute_error: 0.0399 - val_dense_8_mean_absolute_error: 0.0345 - val_dense_9_mean_absolute_error: 0.0336 - val_output_60_mean_absolute_error: 0.0330 - val_output_90_mean_absolute_error: 0.0422 - val_dense_10_mean_absolute_error: 0.0461 - val_dense_11_mean_absolute_error: 0.0560 - val_output_180_mean_absolute_error: 0.0599\n",
      "Epoch 14/100\n",
      "88/88 [==============================] - 4s 43ms/step - loss: 0.0452 - output_15_loss: 0.0039 - dense_8_loss: 0.0043 - dense_9_loss: 0.0043 - output_60_loss: 0.0043 - output_90_loss: 0.0044 - dense_10_loss: 0.0048 - dense_11_loss: 0.0059 - output_180_loss: 0.0070 - output_15_mean_absolute_error: 0.0545 - dense_8_mean_absolute_error: 0.0563 - dense_9_mean_absolute_error: 0.0566 - output_60_mean_absolute_error: 0.0570 - output_90_mean_absolute_error: 0.0578 - dense_10_mean_absolute_error: 0.0620 - dense_11_mean_absolute_error: 0.0704 - output_180_mean_absolute_error: 0.0798 - val_loss: 0.0312 - val_output_15_loss: 0.0028 - val_dense_8_loss: 0.0025 - val_dense_9_loss: 0.0022 - val_output_60_loss: 0.0022 - val_output_90_loss: 0.0031 - val_dense_10_loss: 0.0035 - val_dense_11_loss: 0.0045 - val_output_180_loss: 0.0050 - val_output_15_mean_absolute_error: 0.0398 - val_dense_8_mean_absolute_error: 0.0408 - val_dense_9_mean_absolute_error: 0.0415 - val_output_60_mean_absolute_error: 0.0354 - val_output_90_mean_absolute_error: 0.0415 - val_dense_10_mean_absolute_error: 0.0485 - val_dense_11_mean_absolute_error: 0.0592 - val_output_180_mean_absolute_error: 0.0601\n",
      "Epoch 15/100\n",
      "88/88 [==============================] - 3s 34ms/step - loss: 0.0445 - output_15_loss: 0.0039 - dense_8_loss: 0.0043 - dense_9_loss: 0.0043 - output_60_loss: 0.0044 - output_90_loss: 0.0046 - dense_10_loss: 0.0049 - dense_11_loss: 0.0059 - output_180_loss: 0.0071 - output_15_mean_absolute_error: 0.0543 - dense_8_mean_absolute_error: 0.0568 - dense_9_mean_absolute_error: 0.0570 - output_60_mean_absolute_error: 0.0584 - output_90_mean_absolute_error: 0.0608 - dense_10_mean_absolute_error: 0.0644 - dense_11_mean_absolute_error: 0.0717 - output_180_mean_absolute_error: 0.0814 - val_loss: 0.0314 - val_output_15_loss: 0.0027 - val_dense_8_loss: 0.0028 - val_dense_9_loss: 0.0022 - val_output_60_loss: 0.0021 - val_output_90_loss: 0.0034 - val_dense_10_loss: 0.0035 - val_dense_11_loss: 0.0044 - val_output_180_loss: 0.0058 - val_output_15_mean_absolute_error: 0.0428 - val_dense_8_mean_absolute_error: 0.0518 - val_dense_9_mean_absolute_error: 0.0400 - val_output_60_mean_absolute_error: 0.0397 - val_output_90_mean_absolute_error: 0.0509 - val_dense_10_mean_absolute_error: 0.0494 - val_dense_11_mean_absolute_error: 0.0538 - val_output_180_mean_absolute_error: 0.0682\n",
      "Epoch 16/100\n",
      "88/88 [==============================] - 3s 39ms/step - loss: 0.0436 - output_15_loss: 0.0041 - dense_8_loss: 0.0043 - dense_9_loss: 0.0044 - output_60_loss: 0.0046 - output_90_loss: 0.0044 - dense_10_loss: 0.0048 - dense_11_loss: 0.0060 - output_180_loss: 0.0071 - output_15_mean_absolute_error: 0.0573 - dense_8_mean_absolute_error: 0.0575 - dense_9_mean_absolute_error: 0.0577 - output_60_mean_absolute_error: 0.0596 - output_90_mean_absolute_error: 0.0590 - dense_10_mean_absolute_error: 0.0626 - dense_11_mean_absolute_error: 0.0717 - output_180_mean_absolute_error: 0.0804 - val_loss: 0.0282 - val_output_15_loss: 0.0024 - val_dense_8_loss: 0.0027 - val_dense_9_loss: 0.0022 - val_output_60_loss: 0.0023 - val_output_90_loss: 0.0030 - val_dense_10_loss: 0.0032 - val_dense_11_loss: 0.0039 - val_output_180_loss: 0.0049 - val_output_15_mean_absolute_error: 0.0351 - val_dense_8_mean_absolute_error: 0.0372 - val_dense_9_mean_absolute_error: 0.0341 - val_output_60_mean_absolute_error: 0.0398 - val_output_90_mean_absolute_error: 0.0382 - val_dense_10_mean_absolute_error: 0.0407 - val_dense_11_mean_absolute_error: 0.0502 - val_output_180_mean_absolute_error: 0.0594\n",
      "Epoch 17/100\n",
      "88/88 [==============================] - 4s 41ms/step - loss: 0.0431 - output_15_loss: 0.0042 - dense_8_loss: 0.0044 - dense_9_loss: 0.0045 - output_60_loss: 0.0045 - output_90_loss: 0.0045 - dense_10_loss: 0.0049 - dense_11_loss: 0.0059 - output_180_loss: 0.0070 - output_15_mean_absolute_error: 0.0583 - dense_8_mean_absolute_error: 0.0582 - dense_9_mean_absolute_error: 0.0592 - output_60_mean_absolute_error: 0.0595 - output_90_mean_absolute_error: 0.0611 - dense_10_mean_absolute_error: 0.0630 - dense_11_mean_absolute_error: 0.0714 - output_180_mean_absolute_error: 0.0798 - val_loss: 0.0314 - val_output_15_loss: 0.0039 - val_dense_8_loss: 0.0029 - val_dense_9_loss: 0.0025 - val_output_60_loss: 0.0029 - val_output_90_loss: 0.0032 - val_dense_10_loss: 0.0036 - val_dense_11_loss: 0.0045 - val_output_180_loss: 0.0050 - val_output_15_mean_absolute_error: 0.0549 - val_dense_8_mean_absolute_error: 0.0402 - val_dense_9_mean_absolute_error: 0.0352 - val_output_60_mean_absolute_error: 0.0408 - val_output_90_mean_absolute_error: 0.0385 - val_dense_10_mean_absolute_error: 0.0430 - val_dense_11_mean_absolute_error: 0.0511 - val_output_180_mean_absolute_error: 0.0592\n",
      "Epoch 18/100\n",
      "88/88 [==============================] - 4s 44ms/step - loss: 0.0415 - output_15_loss: 0.0039 - dense_8_loss: 0.0043 - dense_9_loss: 0.0042 - output_60_loss: 0.0044 - output_90_loss: 0.0044 - dense_10_loss: 0.0047 - dense_11_loss: 0.0057 - output_180_loss: 0.0071 - output_15_mean_absolute_error: 0.0534 - dense_8_mean_absolute_error: 0.0567 - dense_9_mean_absolute_error: 0.0565 - output_60_mean_absolute_error: 0.0581 - output_90_mean_absolute_error: 0.0591 - dense_10_mean_absolute_error: 0.0620 - dense_11_mean_absolute_error: 0.0694 - output_180_mean_absolute_error: 0.0797 - val_loss: 0.0285 - val_output_15_loss: 0.0032 - val_dense_8_loss: 0.0028 - val_dense_9_loss: 0.0022 - val_output_60_loss: 0.0020 - val_output_90_loss: 0.0033 - val_dense_10_loss: 0.0036 - val_dense_11_loss: 0.0042 - val_output_180_loss: 0.0049 - val_output_15_mean_absolute_error: 0.0567 - val_dense_8_mean_absolute_error: 0.0508 - val_dense_9_mean_absolute_error: 0.0399 - val_output_60_mean_absolute_error: 0.0335 - val_output_90_mean_absolute_error: 0.0412 - val_dense_10_mean_absolute_error: 0.0458 - val_dense_11_mean_absolute_error: 0.0503 - val_output_180_mean_absolute_error: 0.0587\n",
      "Epoch 19/100\n",
      "88/88 [==============================] - 4s 44ms/step - loss: 0.0409 - output_15_loss: 0.0039 - dense_8_loss: 0.0043 - dense_9_loss: 0.0042 - output_60_loss: 0.0043 - output_90_loss: 0.0044 - dense_10_loss: 0.0047 - dense_11_loss: 0.0058 - output_180_loss: 0.0071 - output_15_mean_absolute_error: 0.0542 - dense_8_mean_absolute_error: 0.0560 - dense_9_mean_absolute_error: 0.0555 - output_60_mean_absolute_error: 0.0568 - output_90_mean_absolute_error: 0.0583 - dense_10_mean_absolute_error: 0.0622 - dense_11_mean_absolute_error: 0.0696 - output_180_mean_absolute_error: 0.0798 - val_loss: 0.0301 - val_output_15_loss: 0.0038 - val_dense_8_loss: 0.0031 - val_dense_9_loss: 0.0023 - val_output_60_loss: 0.0021 - val_output_90_loss: 0.0032 - val_dense_10_loss: 0.0040 - val_dense_11_loss: 0.0042 - val_output_180_loss: 0.0055 - val_output_15_mean_absolute_error: 0.0594 - val_dense_8_mean_absolute_error: 0.0570 - val_dense_9_mean_absolute_error: 0.0427 - val_output_60_mean_absolute_error: 0.0351 - val_output_90_mean_absolute_error: 0.0435 - val_dense_10_mean_absolute_error: 0.0607 - val_dense_11_mean_absolute_error: 0.0560 - val_output_180_mean_absolute_error: 0.0664\n"
     ]
    }
   ],
   "source": [
    "best_hps = tuner.get_best_hyperparameters(num_trials=1)[0]\n",
    "model = tuner.hypermodel.build(best_hps)\n",
    "history = model.fit([[inputs[key] for key in inputs.keys()]],\n",
    "                    [train_output_15,train_output_30,train_output_45,train_output_60,\n",
    "                     train_output_90,train_output_120,train_output_150,train_output_180],\n",
    "                    epochs=200, validation_split=0.2, shuffle = True,\n",
    "                    callbacks=callback_list)"
   ]
  },
  {
   "cell_type": "code",
   "execution_count": 82,
   "metadata": {},
   "outputs": [
    {
     "name": "stdout",
     "output_type": "stream",
     "text": [
      "INFO:tensorflow:Assets written to: saved_model/bon_dl_3h\\assets\n"
     ]
    }
   ],
   "source": [
    "model.save('saved_model/bon_sat-dl_3h')"
   ]
  },
  {
   "cell_type": "code",
   "execution_count": 25,
   "metadata": {
    "colab": {
     "base_uri": "https://localhost:8080/"
    },
    "id": "mvJ2t5Lkjk6D",
    "outputId": "f03b6210-1d7a-4de9-a3c5-55c83ccf53af"
   },
   "outputs": [
    {
     "name": "stdout",
     "output_type": "stream",
     "text": [
      "50/50 [==============================] - 2s 22ms/step - loss: 0.0404 - output_15_loss: 0.0044 - dense_8_loss: 0.0040 - dense_9_loss: 0.0040 - output_60_loss: 0.0038 - output_90_loss: 0.0043 - dense_10_loss: 0.0054 - dense_11_loss: 0.0056 - output_180_loss: 0.0068 - output_15_mean_absolute_error: 0.0615 - dense_8_mean_absolute_error: 0.0609 - dense_9_mean_absolute_error: 0.0540 - output_60_mean_absolute_error: 0.0504 - output_90_mean_absolute_error: 0.0546 - dense_10_mean_absolute_error: 0.0707 - dense_11_mean_absolute_error: 0.0692 - output_180_mean_absolute_error: 0.0762\n"
     ]
    },
    {
     "data": {
      "text/plain": [
       "[0.040424514561891556,\n",
       " 0.004374384880065918,\n",
       " 0.003995513077825308,\n",
       " 0.00397964334115386,\n",
       " 0.0038480593357235193,\n",
       " 0.004328198730945587,\n",
       " 0.0054413252510130405,\n",
       " 0.005638363771140575,\n",
       " 0.006826439872384071,\n",
       " 0.06152596324682236,\n",
       " 0.060928937047719955,\n",
       " 0.05404972285032272,\n",
       " 0.050391871482133865,\n",
       " 0.05457311496138573,\n",
       " 0.07072149217128754,\n",
       " 0.06924276053905487,\n",
       " 0.07619927823543549]"
      ]
     },
     "execution_count": 25,
     "metadata": {},
     "output_type": "execute_result"
    }
   ],
   "source": [
    "model.evaluate(x = [te_inputs[key] for key in te_inputs.keys()],\n",
    "               y = [test_output_15,test_output_30,test_output_45,test_output_60,\n",
    "                    test_output_90,test_output_120,test_output_150,test_output_180]\n",
    "              )"
   ]
  },
  {
   "cell_type": "code",
   "execution_count": 27,
   "metadata": {
    "id": "TVrzjLDqjlB8"
   },
   "outputs": [],
   "source": [
    "y_predict = model.predict(x = [te_inputs[key] for key in te_inputs.keys()])"
   ]
  },
  {
   "cell_type": "code",
   "execution_count": 52,
   "metadata": {},
   "outputs": [],
   "source": [
    "from sklearn import metrics\n",
    "def rmse_fs(y,test_index):\n",
    "    ns_csi_00 = df_ghi.loc[te_index_00,'CSI'].values.reshape(len(te_index_00),1)\n",
    "    ns_clear = df_ghi.loc[test_index,'ghics_rest'].values.reshape(len(test_index),1)\n",
    "    test_output = df_ghi.loc[test_index,'CSI'].values.reshape(len(test_index),1)\n",
    "    rmse1 = np.sqrt(metrics.mean_squared_error(y*ns_clear,test_output*ns_clear))\n",
    "    nrmse1 = rmse1/np.mean(test_output*ns_clear)\n",
    "    rmse0 = np.sqrt(metrics.mean_squared_error(ns_csi_00*ns_clear,test_output*ns_clear))\n",
    "    nrmse0 = rmse0/np.mean(test_output*ns_clear)\n",
    "    mbe1 = np.mean([x-y for x,y in zip(y*ns_clear,test_output*ns_clear)])\n",
    "    nmbe1 = mbe1/np.mean(test_output*ns_clear)\n",
    "    mbe0 = np.mean([x-y for x,y in zip(ns_csi_00*ns_clear,test_output*ns_clear)])\n",
    "    nmbe0 = mbe0/np.mean(test_output*ns_clear)\n",
    "    fs = 1-rmse1/rmse0\n",
    "    return nrmse1,nrmse0,nmbe1,nmbe0,fs"
   ]
  },
  {
   "cell_type": "code",
   "execution_count": 53,
   "metadata": {},
   "outputs": [
    {
     "name": "stdout",
     "output_type": "stream",
     "text": [
      "(0.09207961759708261, 0.0943048664610409, 0.045719306277421455, -0.0017308516233758577, 0.023596331212425548)\n",
      "(0.08881981125910418, 0.10322693889593071, 0.042686609219969696, -0.003434878447254541, 0.1395675178487199)\n",
      "(0.09017659846625717, 0.11110217813365518, 0.0273211228502112, -0.0045245640688892814, 0.18834535937022479)\n",
      "(0.09006663018237414, 0.11275918195468787, 0.017847306058294897, -0.005058630691549471, 0.2012479283632327)\n",
      "(0.09604606671924919, 0.1238699408667341, 0.027393167219685117, -0.005347537709640315, 0.22462167942276912)\n",
      "(0.10485529151705614, 0.13456515288358112, 0.03709153660312905, -0.0033561988355503445, 0.2207842129249349)\n",
      "(0.10443853840184103, 0.14080582724103732, 0.014157018113421299, 0.001953408683544789, 0.25827971435401775)\n",
      "(0.1108757531171578, 0.14965130424717635, 0.022620281348437632, 0.002502101724075544, 0.2591060019495298)\n"
     ]
    }
   ],
   "source": [
    "tests = [te_index15,te_index30,te_index45,te_index60,te_index90,te_index120,te_index150,te_index180]\n",
    "for x,y in zip([y_predict[i] for i in range(8)],tests):\n",
    "    print(rmse_fs(x,y))"
   ]
  },
  {
   "cell_type": "code",
   "execution_count": null,
   "metadata": {},
   "outputs": [],
   "source": []
  }
 ],
 "metadata": {
  "accelerator": "GPU",
  "colab": {
   "name": "ghi_forecasting_gwn.ipynb",
   "provenance": []
  },
  "gpuClass": "standard",
  "kernelspec": {
   "display_name": "Python 3 (ipykernel)",
   "language": "python",
   "name": "python3"
  },
  "language_info": {
   "codemirror_mode": {
    "name": "ipython",
    "version": 3
   },
   "file_extension": ".py",
   "mimetype": "text/x-python",
   "name": "python",
   "nbconvert_exporter": "python",
   "pygments_lexer": "ipython3",
   "version": "3.9.13"
  }
 },
 "nbformat": 4,
 "nbformat_minor": 1
}
